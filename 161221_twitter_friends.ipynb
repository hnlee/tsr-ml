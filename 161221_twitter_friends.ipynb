{
 "cells": [
  {
   "cell_type": "code",
   "execution_count": 1,
   "metadata": {
    "collapsed": true
   },
   "outputs": [],
   "source": [
    "import pickle"
   ]
  },
  {
   "cell_type": "code",
   "execution_count": 2,
   "metadata": {
    "collapsed": false
   },
   "outputs": [
    {
     "data": {
      "text/plain": [
       "274"
      ]
     },
     "execution_count": 2,
     "metadata": {},
     "output_type": "execute_result"
    }
   ],
   "source": [
    "existing_file = open(\"existing_twitter_users.pkl\", \"rb\")\n",
    "existing = pickle.load(existing_file)\n",
    "len(existing)"
   ]
  },
  {
   "cell_type": "code",
   "execution_count": 3,
   "metadata": {
    "collapsed": false
   },
   "outputs": [
    {
     "data": {
      "text/plain": [
       "956638"
      ]
     },
     "execution_count": 3,
     "metadata": {},
     "output_type": "execute_result"
    }
   ],
   "source": [
    "ids_file = open(\"connection_ids.pkl\", \"rb\")\n",
    "ids = pickle.load(ids_file)\n",
    "len(ids)"
   ]
  },
  {
   "cell_type": "code",
   "execution_count": 4,
   "metadata": {
    "collapsed": true
   },
   "outputs": [],
   "source": [
    "filtered_ids = list(set(ids) - set(existing))"
   ]
  },
  {
   "cell_type": "code",
   "execution_count": 5,
   "metadata": {
    "collapsed": false
   },
   "outputs": [
    {
     "data": {
      "text/plain": [
       "956380"
      ]
     },
     "execution_count": 5,
     "metadata": {},
     "output_type": "execute_result"
    }
   ],
   "source": [
    "len(filtered_ids)"
   ]
  },
  {
   "cell_type": "code",
   "execution_count": 6,
   "metadata": {
    "collapsed": false
   },
   "outputs": [
    {
     "data": {
      "text/plain": [
       "3.320763888888889"
      ]
     },
     "execution_count": 6,
     "metadata": {},
     "output_type": "execute_result"
    }
   ],
   "source": [
    "956380/3000*15/60/24"
   ]
  },
  {
   "cell_type": "code",
   "execution_count": 7,
   "metadata": {
    "collapsed": false
   },
   "outputs": [
    {
     "data": {
      "text/plain": [
       "80000.0"
      ]
     },
     "execution_count": 7,
     "metadata": {},
     "output_type": "execute_result"
    }
   ],
   "source": [
    "400000/5"
   ]
  },
  {
   "cell_type": "code",
   "execution_count": 8,
   "metadata": {
    "collapsed": false
   },
   "outputs": [
    {
     "data": {
      "text/plain": [
       "1.3888888888888888"
      ]
     },
     "execution_count": 8,
     "metadata": {},
     "output_type": "execute_result"
    }
   ],
   "source": [
    "5000/900*0.25"
   ]
  },
  {
   "cell_type": "code",
   "execution_count": 4,
   "metadata": {
    "collapsed": false
   },
   "outputs": [
    {
     "data": {
      "text/plain": [
       "2805"
      ]
     },
     "execution_count": 4,
     "metadata": {},
     "output_type": "execute_result"
    }
   ],
   "source": [
    "connections_file = open(\"connections.pkl\", \"rb\")\n",
    "connections = pickle.load(connections_file)\n",
    "len(connections)"
   ]
  },
  {
   "cell_type": "code",
   "execution_count": 5,
   "metadata": {
    "collapsed": false
   },
   "outputs": [
    {
     "data": {
      "text/plain": [
       "[{'description': '',\n",
       "  'id': 715769067601268738,\n",
       "  'screen_name': 'youngboyallpver'},\n",
       " {'description': \"President & CEO of one of the nation's largest, private nonprofit Community Action Agency. Motivational & public speaker on leadership & business turnarounds.\",\n",
       "  'id': 732254800973201408,\n",
       "  'screen_name': 'Harold_CEDA'},\n",
       " {'description': 'I represent the 21st District of TX in Congress and Chair the Science, Space, and Technology Committee. Join me: https://t.co/mIljMWAOmi',\n",
       "  'id': 15856366,\n",
       "  'screen_name': 'LamarSmithTX21'},\n",
       " {'description': 'Lafamilia. Cigars. Sports.',\n",
       "  'id': 2772603976,\n",
       "  'screen_name': 'keithandjaclyn1'},\n",
       " {'description': 'Catholic, Crime Think, Elitist, Man of Leisure, Cigars, Nats, Arsenal, Napoli. Yes I am a pirate, two hundred years too late',\n",
       "  'id': 16146117,\n",
       "  'screen_name': 'RegularRon'},\n",
       " {'description': 'http://t.co/kuppVHsEt9: Tips, tutorials, and commentary on pedagogy, productivity, and technology in higher education.',\n",
       "  'id': 60462205,\n",
       "  'screen_name': 'ProfHacker'},\n",
       " {'description': 'musician, New truck driver, Conservative,  Broke',\n",
       "  'id': 1624986289,\n",
       "  'screen_name': 'rightaenlr'},\n",
       " {'description': \"Bach v2.99 beta - From Montana. Twin Cities resident for 10 yrs. Travel aficionado. Marketer. IG @bachparker. The words are off, but they don't feel that wrong.\",\n",
       "  'id': 11689302,\n",
       "  'screen_name': 'BachParker'},\n",
       " {'description': 'I @BELIEVEinSOCIAL- offering scalable HUMAN Social Media Solutions for Agencies and Brands- @OhioState Alum #BuckeyeForLife',\n",
       "  'id': 43156555,\n",
       "  'screen_name': 'grahamcouzens'},\n",
       " {'description': 'Hustler', 'id': 43683261, 'screen_name': 'iceykal'}]"
      ]
     },
     "execution_count": 5,
     "metadata": {},
     "output_type": "execute_result"
    }
   ],
   "source": [
    "connections[:10]"
   ]
  },
  {
   "cell_type": "code",
   "execution_count": 5,
   "metadata": {
    "collapsed": false
   },
   "outputs": [
    {
     "data": {
      "text/plain": [
       "2441"
      ]
     },
     "execution_count": 5,
     "metadata": {},
     "output_type": "execute_result"
    }
   ],
   "source": [
    "filtered_connections = [entry for entry in connections \n",
    "                              if entry[\"description\"] != \"\"\n",
    "                              and entry[\"id\"] not in existing]\n",
    "len(filtered_connections)"
   ]
  },
  {
   "cell_type": "code",
   "execution_count": 6,
   "metadata": {
    "collapsed": false
   },
   "outputs": [],
   "source": [
    "from pickling import write_tw_info_to_tsv\n",
    "write_tw_info_to_tsv(\"twitter_accounts.tsv\", filtered_connections)"
   ]
  },
  {
   "cell_type": "code",
   "execution_count": null,
   "metadata": {
    "collapsed": true
   },
   "outputs": [],
   "source": []
  }
 ],
 "metadata": {
  "kernelspec": {
   "display_name": "Python 3",
   "language": "python",
   "name": "python3"
  },
  "language_info": {
   "codemirror_mode": {
    "name": "ipython",
    "version": 3
   },
   "file_extension": ".py",
   "mimetype": "text/x-python",
   "name": "python",
   "nbconvert_exporter": "python",
   "pygments_lexer": "ipython3",
   "version": "3.5.2"
  }
 },
 "nbformat": 4,
 "nbformat_minor": 0
}
