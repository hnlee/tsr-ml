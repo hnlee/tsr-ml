{
 "cells": [
  {
   "cell_type": "code",
   "execution_count": 1,
   "metadata": {
    "collapsed": true
   },
   "outputs": [],
   "source": [
    "import pickle"
   ]
  },
  {
   "cell_type": "code",
   "execution_count": 2,
   "metadata": {
    "collapsed": false
   },
   "outputs": [
    {
     "data": {
      "text/plain": [
       "8230"
      ]
     },
     "execution_count": 2,
     "metadata": {},
     "output_type": "execute_result"
    }
   ],
   "source": [
    "likes_file = open(\"likes_ids.pkl\", \"rb\")\n",
    "likes_ids = pickle.load(likes_file)\n",
    "len(likes_ids)"
   ]
  },
  {
   "cell_type": "code",
   "execution_count": 3,
   "metadata": {
    "collapsed": false
   },
   "outputs": [
    {
     "data": {
      "text/plain": [
       "10750"
      ]
     },
     "execution_count": 3,
     "metadata": {},
     "output_type": "execute_result"
    }
   ],
   "source": [
    "likes_file = open(\"likes_info.pkl\", \"rb\")\n",
    "likes_info = pickle.load(likes_file)\n",
    "len(likes_info)"
   ]
  },
  {
   "cell_type": "code",
   "execution_count": 4,
   "metadata": {
    "collapsed": false
   },
   "outputs": [],
   "source": [
    "fb_people_categories = [\"Actor\",\n",
    "                        \"Athlete\",\n",
    "                        \"Author\",\n",
    "                        \"Band\",\n",
    "                        \"Blogger\",\n",
    "                        \"Chef\", \n",
    "                        \"Coach\", \n",
    "                        \"Comedian\",\n",
    "                        \"Dancer\", \n",
    "                        \"Entrepreneur\", \n",
    "                        \"Fashion Model\", \n",
    "                        \"Fictional Character\", \n",
    "                        \"Film Director\", \n",
    "                        \"Fitness Model\", \n",
    "                        \"Government Official\", \n",
    "                        \"Journalist\", \n",
    "                        \"Motivational Speaker\", \n",
    "                        \"Movie Character\",\n",
    "                        \"Musician\", \n",
    "                        \"News Personality\", \n",
    "                        \"Pet\", \n",
    "                        \"Photographer\", \n",
    "                        \"Political Candidate\", \n",
    "                        \"Politician\", \n",
    "                        \"Producer\", \n",
    "                        \"Public Figure\", \n",
    "                        \"Scientist\", \n",
    "                        \"Teacher\", \n",
    "                        \"Writer\"]"
   ]
  },
  {
   "cell_type": "code",
   "execution_count": 5,
   "metadata": {
    "collapsed": false
   },
   "outputs": [
    {
     "data": {
      "text/plain": [
       "157"
      ]
     },
     "execution_count": 5,
     "metadata": {},
     "output_type": "execute_result"
    }
   ],
   "source": [
    "existing_file = open(\"existing_facebook_pages.pkl\", \"rb\")\n",
    "existing = pickle.load(existing_file)\n",
    "len(existing)"
   ]
  },
  {
   "cell_type": "code",
   "execution_count": 6,
   "metadata": {
    "collapsed": false
   },
   "outputs": [
    {
     "data": {
      "text/plain": [
       "3551"
      ]
     },
     "execution_count": 6,
     "metadata": {},
     "output_type": "execute_result"
    }
   ],
   "source": [
    "filtered_likes = [entry for entry in likes_info \n",
    "                        if \"category\" in entry.keys() \n",
    "                        and (entry[\"category\"] in fb_people_categories\n",
    "                             and entry[\"id\"] not in existing)]\n",
    "len(filtered_likes)"
   ]
  },
  {
   "cell_type": "code",
   "execution_count": 7,
   "metadata": {
    "collapsed": false
   },
   "outputs": [],
   "source": [
    "from pickling import write_fb_info_to_tsv\n",
    "write_fb_info_to_tsv(\"facebook_accounts.tsv\", filtered_likes)"
   ]
  },
  {
   "cell_type": "code",
   "execution_count": null,
   "metadata": {
    "collapsed": true
   },
   "outputs": [],
   "source": []
  }
 ],
 "metadata": {
  "kernelspec": {
   "display_name": "Python 3",
   "language": "python",
   "name": "python3"
  },
  "language_info": {
   "codemirror_mode": {
    "name": "ipython",
    "version": 3
   },
   "file_extension": ".py",
   "mimetype": "text/x-python",
   "name": "python",
   "nbconvert_exporter": "python",
   "pygments_lexer": "ipython3",
   "version": "3.5.2"
  }
 },
 "nbformat": 4,
 "nbformat_minor": 0
}
