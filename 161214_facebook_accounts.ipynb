{
 "cells": [
  {
   "cell_type": "code",
   "execution_count": 1,
   "metadata": {
    "collapsed": true
   },
   "outputs": [],
   "source": [
    "import psycopg2\n",
    "import sqlalchemy\n",
    "import sqlalchemy.orm\n",
    "import os\n",
    "import yaml"
   ]
  },
  {
   "cell_type": "code",
   "execution_count": 2,
   "metadata": {
    "collapsed": true
   },
   "outputs": [],
   "source": [
    "def connect_to_snapshot(yaml_path):\n",
    "    file = open(yaml_path, \"r\")\n",
    "    db_info = yaml.load(file)\n",
    "    file.close()\n",
    "    url = \"postgresql+psycopg2://{}:{}@{}:{}/{}\".format(db_info[\"username\"],\n",
    "                                           db_info[\"password\"],\n",
    "                                           db_info[\"host\"],\n",
    "                                           db_info[\"port\"],\n",
    "                                           db_info[\"dbname\"])\n",
    "    engine = sqlalchemy.create_engine(url)\n",
    "    conn = engine.connect()\n",
    "    meta = sqlalchemy.MetaData(bind = engine)\n",
    "    meta.reflect()\n",
    "    return engine, conn, meta"
   ]
  },
  {
   "cell_type": "code",
   "execution_count": 3,
   "metadata": {
    "collapsed": true
   },
   "outputs": [],
   "source": [
    "engine, conn, meta = connect_to_snapshot(\"ml-snapshot.yml\")"
   ]
  },
  {
   "cell_type": "code",
   "execution_count": 4,
   "metadata": {
    "collapsed": false
   },
   "outputs": [
    {
     "data": {
      "text/plain": [
       "[{'autoincrement': False,\n",
       "  'default': None,\n",
       "  'name': 'id',\n",
       "  'nullable': False,\n",
       "  'type': BIGINT()},\n",
       " {'autoincrement': False,\n",
       "  'default': None,\n",
       "  'name': 'entity',\n",
       "  'nullable': True,\n",
       "  'type': JSONB(astext_type=Text())},\n",
       " {'autoincrement': False,\n",
       "  'default': None,\n",
       "  'name': 'created_at',\n",
       "  'nullable': False,\n",
       "  'type': TIMESTAMP()},\n",
       " {'autoincrement': False,\n",
       "  'default': None,\n",
       "  'name': 'updated_at',\n",
       "  'nullable': False,\n",
       "  'type': TIMESTAMP()},\n",
       " {'autoincrement': False,\n",
       "  'default': None,\n",
       "  'name': 'image',\n",
       "  'nullable': True,\n",
       "  'type': VARCHAR()},\n",
       " {'autoincrement': False,\n",
       "  'default': None,\n",
       "  'name': 'name',\n",
       "  'nullable': True,\n",
       "  'type': VARCHAR()}]"
      ]
     },
     "execution_count": 4,
     "metadata": {},
     "output_type": "execute_result"
    }
   ],
   "source": [
    "inspector = sqlalchemy.engine.reflection.Inspector.from_engine(engine)\n",
    "inspector.get_columns(\"facebook_pages\")"
   ]
  },
  {
   "cell_type": "code",
   "execution_count": 5,
   "metadata": {
    "collapsed": true
   },
   "outputs": [],
   "source": [
    "FacebookPages = meta.tables[\"facebook_pages\"]"
   ]
  },
  {
   "cell_type": "code",
   "execution_count": 7,
   "metadata": {
    "collapsed": false
   },
   "outputs": [
    {
     "data": {
      "text/plain": [
       "[(157,)]"
      ]
     },
     "execution_count": 7,
     "metadata": {},
     "output_type": "execute_result"
    }
   ],
   "source": [
    "from sqlalchemy.sql import select, func\n",
    "s = select([func.count(FacebookPages.c.id)])\n",
    "conn.execute(s).fetchall()"
   ]
  },
  {
   "cell_type": "code",
   "execution_count": 8,
   "metadata": {
    "collapsed": false
   },
   "outputs": [
    {
     "name": "stdout",
     "output_type": "stream",
     "text": [
      "id\n",
      "name\n"
     ]
    }
   ],
   "source": [
    "s = select([FacebookPages.c.entity])\n",
    "sample_user = conn.execute(s).fetchone()[0]\n",
    "loop = [print(key) for key in sorted(sample_user.keys())]"
   ]
  },
  {
   "cell_type": "code",
   "execution_count": 30,
   "metadata": {
    "collapsed": false
   },
   "outputs": [
    {
     "data": {
      "text/plain": [
       "(166606563384885, {'id': '166606563384885', 'name': 'Garvin Thomas NBC Bay Area'}, datetime.datetime(2016, 12, 2, 18, 36, 41, 203703), datetime.datetime(2016, 12, 10, 9, 30, 25, 376622), 'https://scontent.xx.fbcdn.net/v/t1.0-1/p50x50/12140774_941429039235963_4992205500873324218_n.jpg?oh=354d98afc78670a3085509898a6e950b&oe=58BBE30D', 'Garvin Thomas NBC Bay Area')"
      ]
     },
     "execution_count": 30,
     "metadata": {},
     "output_type": "execute_result"
    }
   ],
   "source": [
    "s = select([FacebookPages]).where(FacebookPages.c.name != None)\n",
    "conn.execute(s).fetchone()"
   ]
  },
  {
   "cell_type": "code",
   "execution_count": 43,
   "metadata": {
    "collapsed": false
   },
   "outputs": [],
   "source": [
    "import requests\n",
    "file = open(\"api-keys.yml\", \"r\")\n",
    "api_keys = yaml.load(file)\n",
    "file.close()\n",
    "url_prefix = r\"https://graph.facebook.com/v2.8/\"\n",
    "access_token = r\"access_token={}\".format(api_keys[\"facebook\"][\"access-token\"])"
   ]
  },
  {
   "cell_type": "code",
   "execution_count": 44,
   "metadata": {
    "collapsed": false
   },
   "outputs": [
    {
     "data": {
      "text/plain": [
       "'{\"name\":\"Garvin Thomas NBC Bay Area\",\"id\":\"166606563384885\"}'"
      ]
     },
     "execution_count": 44,
     "metadata": {},
     "output_type": "execute_result"
    }
   ],
   "source": [
    "requests.get(url_prefix + r\"166606563384885?\" + access_token).text"
   ]
  },
  {
   "cell_type": "code",
   "execution_count": 52,
   "metadata": {
    "collapsed": false
   },
   "outputs": [
    {
     "data": {
      "text/plain": [
       "{'data': [{'id': '66731150860', 'name': 'Compassion Without Borders'},\n",
       "  {'id': '466896256668273', 'name': 'Julie Kramer'},\n",
       "  {'id': '802845313141599', 'name': 'Phil Lipof'},\n",
       "  {'id': '124334300676', 'name': 'Valley Medical Center Foundation'},\n",
       "  {'id': '1079485892075077', 'name': 'Peggy Bunker'},\n",
       "  {'id': '427583733952709', 'name': 'Laura Garcia Cannon'},\n",
       "  {'id': '189383104414761', 'name': 'Stephanie Chuang'},\n",
       "  {'id': '194851267219866', 'name': 'Hunger at Home'},\n",
       "  {'id': '909584059137981', 'name': 'Cranksgiving San Jose'},\n",
       "  {'id': '27104741639', 'name': 'Second Harvest Food Bank'},\n",
       "  {'id': '463463187187304', 'name': 'Zoë Bands'},\n",
       "  {'id': '1655319388064095', 'name': 'Project Open Paw'},\n",
       "  {'id': '73282863973', 'name': 'Dave Huddleston'},\n",
       "  {'id': '1447032725535735', 'name': 'Ambassadors of Hope'},\n",
       "  {'id': '1574490369484680', 'name': 'Melody Gonzales'},\n",
       "  {'id': '561973903841519', 'name': 'South Bay Clean Creeks Coalition'},\n",
       "  {'id': '310820892395037', 'name': 'SnickerdoodALZ'},\n",
       "  {'id': '293250267506054', 'name': 'Rotary Play Garden'},\n",
       "  {'id': '155869377766434', 'name': 'NBC News'},\n",
       "  {'id': '319699511448616', 'name': 'Recycling4Smiles'},\n",
       "  {'id': '314674371909931', 'name': 'Kaitlyn Pratt FOX 5'},\n",
       "  {'id': '290433717829395', 'name': 'John Preston'},\n",
       "  {'id': '657696994329344', 'name': 'Heart of a Hero'},\n",
       "  {'id': '246688518871905', 'name': 'Running America'},\n",
       "  {'id': '518566058199123', 'name': 'Project Chemo Crochet'}],\n",
       " 'paging': {'cursors': {'after': 'NTE4NTY2MDU4MTk5MTIz',\n",
       "   'before': 'NjY3MzExNTA4NjAZD'},\n",
       "  'next': 'https:\\\\/\\\\/graph.facebook.com\\\\/v2.8\\\\/166606563384885\\\\/likes?access_token=369339830067115%7C-gqJBkWfEhsEuMPopn-mh6gJml8&limit=25&after=NTE4NTY2MDU4MTk5MTIz'}}"
      ]
     },
     "execution_count": 52,
     "metadata": {},
     "output_type": "execute_result"
    }
   ],
   "source": [
    "r = eval(requests.get(url_prefix + r\"166606563384885/likes?\" + access_token).text)\n",
    "r"
   ]
  },
  {
   "cell_type": "code",
   "execution_count": 57,
   "metadata": {
    "collapsed": false
   },
   "outputs": [
    {
     "data": {
      "text/plain": [
       "{'data': [{'id': '55375096989', 'name': 'NBC Bay Area'},\n",
       "  {'id': '119314614790209', 'name': 'Cory Marshall'}],\n",
       " 'paging': {'cursors': {'after': 'MTE5MzE0NjE0NzkwMjA5',\n",
       "   'before': 'NTUzNzUwOTY5ODkZD'},\n",
       "  'previous': 'https:\\\\/\\\\/graph.facebook.com\\\\/v2.8\\\\/166606563384885\\\\/likes?access_token=369339830067115%7C-gqJBkWfEhsEuMPopn-mh6gJml8&limit=25&before=NTUzNzUwOTY5ODkZD'}}"
      ]
     },
     "execution_count": 57,
     "metadata": {},
     "output_type": "execute_result"
    }
   ],
   "source": [
    "r = eval(requests.get(url_prefix + r\"166606563384885/likes?\" + access_token + \"&after=\" + r[\"paging\"][\"cursors\"][\"after\"]).text)\n",
    "r"
   ]
  },
  {
   "cell_type": "code",
   "execution_count": null,
   "metadata": {
    "collapsed": true
   },
   "outputs": [],
   "source": []
  }
 ],
 "metadata": {
  "kernelspec": {
   "display_name": "Python 3",
   "language": "python",
   "name": "python3"
  },
  "language_info": {
   "codemirror_mode": {
    "name": "ipython",
    "version": 3
   },
   "file_extension": ".py",
   "mimetype": "text/x-python",
   "name": "python",
   "nbconvert_exporter": "python",
   "pygments_lexer": "ipython3",
   "version": "3.5.2"
  }
 },
 "nbformat": 4,
 "nbformat_minor": 0
}
