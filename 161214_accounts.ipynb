{
 "cells": [
  {
   "cell_type": "code",
   "execution_count": 45,
   "metadata": {
    "collapsed": true
   },
   "outputs": [],
   "source": [
    "import psycopg2\n",
    "import sqlalchemy\n",
    "import sqlalchemy.orm\n",
    "import os\n",
    "import yaml"
   ]
  },
  {
   "cell_type": "code",
   "execution_count": 7,
   "metadata": {
    "collapsed": true
   },
   "outputs": [],
   "source": [
    "file = open(\"ml-snapshot.yml\", \"r\")\n",
    "db_info = yaml.load(file)\n",
    "file.close()"
   ]
  },
  {
   "cell_type": "code",
   "execution_count": 23,
   "metadata": {
    "collapsed": false
   },
   "outputs": [],
   "source": [
    "url = \"postgresql+psycopg2://{}:{}@{}:{}/{}\".format(db_info[\"username\"],\n",
    "                                           db_info[\"password\"],\n",
    "                                           db_info[\"host\"],\n",
    "                                           db_info[\"port\"],\n",
    "                                           db_info[\"dbname\"])\n",
    "engine = sqlalchemy.create_engine(url)\n",
    "conn = engine.connect()\n",
    "meta = sqlalchemy.MetaData(bind = engine)\n",
    "meta.reflect()"
   ]
  },
  {
   "cell_type": "code",
   "execution_count": 43,
   "metadata": {
    "collapsed": false
   },
   "outputs": [
    {
     "name": "stdout",
     "output_type": "stream",
     "text": [
      "account_setup_surveys\n",
      "admins\n",
      "bottom_lines\n",
      "facebook_page_stats\n",
      "facebook_pages\n",
      "facebook_posts\n",
      "insights\n",
      "pghero_query_stats\n",
      "quotes\n",
      "reports\n",
      "schema_migrations\n",
      "subscription_plans\n",
      "top_lines\n",
      "twitter_competitors\n",
      "twitter_statuses\n",
      "twitter_subscriptions\n",
      "twitter_user_stats\n",
      "twitter_users\n",
      "version_associations\n",
      "versions\n",
      "clients\n",
      "competitors\n",
      "facebook_competitors\n",
      "facebook_subscriptions\n",
      "identities\n",
      "subscription_payments\n"
     ]
    }
   ],
   "source": [
    "for table in meta.sorted_tables:\n",
    "    print(table)"
   ]
  },
  {
   "cell_type": "code",
   "execution_count": 37,
   "metadata": {
    "collapsed": false
   },
   "outputs": [
    {
     "data": {
      "text/plain": [
       "[{'autoincrement': False,\n",
       "  'default': None,\n",
       "  'name': 'id',\n",
       "  'nullable': False,\n",
       "  'type': BIGINT()},\n",
       " {'autoincrement': False,\n",
       "  'default': None,\n",
       "  'name': 'entity',\n",
       "  'nullable': True,\n",
       "  'type': JSONB(astext_type=Text())},\n",
       " {'autoincrement': False,\n",
       "  'default': None,\n",
       "  'name': 'created_at',\n",
       "  'nullable': False,\n",
       "  'type': TIMESTAMP()},\n",
       " {'autoincrement': False,\n",
       "  'default': None,\n",
       "  'name': 'updated_at',\n",
       "  'nullable': False,\n",
       "  'type': TIMESTAMP()},\n",
       " {'autoincrement': False,\n",
       "  'default': 'true',\n",
       "  'name': 'active',\n",
       "  'nullable': True,\n",
       "  'type': BOOLEAN()}]"
      ]
     },
     "execution_count": 37,
     "metadata": {},
     "output_type": "execute_result"
    }
   ],
   "source": [
    "inspector = sqlalchemy.engine.reflection.Inspector.from_engine(engine)\n",
    "inspector.get_columns(\"twitter_subscriptions\")"
   ]
  },
  {
   "cell_type": "code",
   "execution_count": 39,
   "metadata": {
    "collapsed": false
   },
   "outputs": [
    {
     "data": {
      "text/plain": [
       "[{'autoincrement': True,\n",
       "  'default': \"nextval('twitter_competitors_id_seq'::regclass)\",\n",
       "  'name': 'id',\n",
       "  'nullable': False,\n",
       "  'type': BIGINT()},\n",
       " {'autoincrement': False,\n",
       "  'default': None,\n",
       "  'name': 'created_at',\n",
       "  'nullable': False,\n",
       "  'type': TIMESTAMP()},\n",
       " {'autoincrement': False,\n",
       "  'default': None,\n",
       "  'name': 'updated_at',\n",
       "  'nullable': False,\n",
       "  'type': TIMESTAMP()},\n",
       " {'autoincrement': False,\n",
       "  'default': None,\n",
       "  'name': 'client_id',\n",
       "  'nullable': False,\n",
       "  'type': BIGINT()},\n",
       " {'autoincrement': False,\n",
       "  'default': None,\n",
       "  'name': 'twitter_user_id',\n",
       "  'nullable': False,\n",
       "  'type': BIGINT()},\n",
       " {'autoincrement': False,\n",
       "  'default': None,\n",
       "  'name': 'competitor_id',\n",
       "  'nullable': True,\n",
       "  'type': INTEGER()}]"
      ]
     },
     "execution_count": 39,
     "metadata": {},
     "output_type": "execute_result"
    }
   ],
   "source": [
    "inspector.get_columns(\"twitter_competitors\")"
   ]
  },
  {
   "cell_type": "code",
   "execution_count": 47,
   "metadata": {
    "collapsed": false
   },
   "outputs": [],
   "source": [
    "TwitterSubscriptions = meta.tables[\"twitter_subscriptions\"]\n",
    "TwitterCompetitors = meta.tables[\"twitter_competitors\"]\n",
    "TwitterUsers = meta.tables[\"twitter_users\"]"
   ]
  },
  {
   "cell_type": "code",
   "execution_count": 66,
   "metadata": {
    "collapsed": false
   },
   "outputs": [
    {
     "data": {
      "text/plain": [
       "[(274,)]"
      ]
     },
     "execution_count": 66,
     "metadata": {},
     "output_type": "execute_result"
    }
   ],
   "source": [
    "from sqlalchemy.sql import select, func\n",
    "s = select([func.count(TwitterUsers.c.id)])\n",
    "conn.execute(s).fetchall()"
   ]
  },
  {
   "cell_type": "code",
   "execution_count": 89,
   "metadata": {
    "collapsed": false
   },
   "outputs": [
    {
     "name": "stdout",
     "output_type": "stream",
     "text": [
      "contributors_enabled\n",
      "created_at\n",
      "default_profile\n",
      "default_profile_image\n",
      "description\n",
      "entities\n",
      "favourites_count\n",
      "follow_request_sent\n",
      "followers_count\n",
      "following\n",
      "friends_count\n",
      "geo_enabled\n",
      "has_extended_profile\n",
      "id\n",
      "id_str\n",
      "is_translation_enabled\n",
      "is_translator\n",
      "lang\n",
      "listed_count\n",
      "location\n",
      "name\n",
      "notifications\n",
      "profile_background_color\n",
      "profile_background_image_url\n",
      "profile_background_image_url_https\n",
      "profile_background_tile\n",
      "profile_banner_url\n",
      "profile_image_url\n",
      "profile_image_url_https\n",
      "profile_link_color\n",
      "profile_sidebar_border_color\n",
      "profile_sidebar_fill_color\n",
      "profile_text_color\n",
      "profile_use_background_image\n",
      "protected\n",
      "screen_name\n",
      "status\n",
      "statuses_count\n",
      "time_zone\n",
      "url\n",
      "utc_offset\n",
      "verified\n"
     ]
    }
   ],
   "source": [
    "s = select([TwitterUsers.c.entity])\n",
    "sample_user = conn.execute(s).fetchone()[0]\n",
    "loop = [print(key) for key in sorted(result.keys())]"
   ]
  },
  {
   "cell_type": "code",
   "execution_count": 86,
   "metadata": {
    "collapsed": false
   },
   "outputs": [],
   "source": [
    "import tweepy\n",
    "file = open(\"api-keys.yml\", \"r\")\n",
    "api_keys = yaml.load(file)\n",
    "file.close()\n",
    "auth = tweepy.OAuthHandler(api_keys[\"twitter\"][\"consumer-key\"],\n",
    "                           api_keys[\"twitter\"][\"consumer-secret\"])\n",
    "auth.set_access_token(api_keys[\"twitter\"][\"access-token\"], \n",
    "                      api_keys[\"twitter\"][\"access-secret\"])\n",
    "api = tweepy.API(auth)"
   ]
  },
  {
   "cell_type": "code",
   "execution_count": 92,
   "metadata": {
    "collapsed": false
   },
   "outputs": [],
   "source": [
    "s = select([TwitterUsers.c.entity])\n",
    "result = conn.execute(s)\n",
    "existing_twitter_users = dict((row[0][\"screen_name\"], row[0][\"id\"]) for row in result)"
   ]
  },
  {
   "cell_type": "code",
   "execution_count": null,
   "metadata": {
    "collapsed": false
   },
   "outputs": [],
   "source": [
    "import time\n",
    "following_ids = []\n",
    "follower_ids = []\n",
    "i = 0\n",
    "for twitter_id in existing_twitter_users.values():\n",
    "    start = time.time()\n",
    "    following_ids += api.friends_ids(twitter_id)\n",
    "    follower_ids += api.followers_ids(twitter_id)\n",
    "    if i % 7 == 0:\n",
    "        delay = (15 * 60) - (time.time() - start)\n",
    "        time.sleep(delay)\n",
    "    if i % 50 == 0:\n",
    "        print(\"{!s} users processed\".format(i))"
   ]
  },
  {
   "cell_type": "code",
   "execution_count": 98,
   "metadata": {
    "collapsed": false
   },
   "outputs": [],
   "source": [
    "def create_screen_name_id_dict(id_list):\n",
    "    screen_name_dict = {}\n",
    "    user_ids = set(id_list)\n",
    "    for idx, user_id in enumerate(user_ids):\n",
    "        start = time.time()\n",
    "        screen_name_dict[api.get_user(user_id).screen_name] = user_id\n",
    "        if idx % 900 == 0:\n",
    "            delay = (15 * 60) - (time.time() - start)\n",
    "            time.sleep(delay)\n",
    "    return screen_name_dict"
   ]
  },
  {
   "cell_type": "code",
   "execution_count": null,
   "metadata": {
    "collapsed": true
   },
   "outputs": [],
   "source": [
    "following = create_screen_name_id_dict(following_ids)"
   ]
  },
  {
   "cell_type": "code",
   "execution_count": null,
   "metadata": {
    "collapsed": true
   },
   "outputs": [],
   "source": [
    "followers = create_screen_name_id_dict(follower_ids)"
   ]
  }
 ],
 "metadata": {
  "kernelspec": {
   "display_name": "Python 3",
   "language": "python",
   "name": "python3"
  },
  "language_info": {
   "codemirror_mode": {
    "name": "ipython",
    "version": 3
   },
   "file_extension": ".py",
   "mimetype": "text/x-python",
   "name": "python",
   "nbconvert_exporter": "python",
   "pygments_lexer": "ipython3",
   "version": "3.5.2"
  }
 },
 "nbformat": 4,
 "nbformat_minor": 0
}
