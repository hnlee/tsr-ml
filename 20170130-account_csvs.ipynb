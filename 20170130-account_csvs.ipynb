{
 "cells": [
  {
   "cell_type": "code",
   "execution_count": 1,
   "metadata": {
    "collapsed": true
   },
   "outputs": [],
   "source": [
    "import pandas as pd"
   ]
  },
  {
   "cell_type": "code",
   "execution_count": 2,
   "metadata": {
    "collapsed": false
   },
   "outputs": [
    {
     "data": {
      "text/html": [
       "<div>\n",
       "<table border=\"1\" class=\"dataframe\">\n",
       "  <thead>\n",
       "    <tr style=\"text-align: right;\">\n",
       "      <th></th>\n",
       "      <th>name</th>\n",
       "      <th>id</th>\n",
       "      <th>category</th>\n",
       "      <th>url</th>\n",
       "      <th>include?</th>\n",
       "      <th>Twitter page</th>\n",
       "      <th>stats</th>\n",
       "      <th>stats_type</th>\n",
       "    </tr>\n",
       "  </thead>\n",
       "  <tbody>\n",
       "    <tr>\n",
       "      <th>0</th>\n",
       "      <td>A.J. Klein</td>\n",
       "      <td>120578461444970</td>\n",
       "      <td>Athlete</td>\n",
       "      <td>http://facebook.com/120578461444970</td>\n",
       "      <td>N</td>\n",
       "      <td>NaN</td>\n",
       "      <td>1511.0</td>\n",
       "      <td>Y</td>\n",
       "    </tr>\n",
       "    <tr>\n",
       "      <th>1</th>\n",
       "      <td>Aaron Brackett</td>\n",
       "      <td>169056606481397</td>\n",
       "      <td>Public Figure</td>\n",
       "      <td>http://facebook.com/169056606481397</td>\n",
       "      <td>Y</td>\n",
       "      <td>https://twitter.com/Aaron_Brackett</td>\n",
       "      <td>473.0</td>\n",
       "      <td>N</td>\n",
       "    </tr>\n",
       "    <tr>\n",
       "      <th>2</th>\n",
       "      <td>Aaron Gilchrist</td>\n",
       "      <td>99145336302</td>\n",
       "      <td>Journalist</td>\n",
       "      <td>http://facebook.com/99145336302</td>\n",
       "      <td>Y</td>\n",
       "      <td>https://twitter.com/nbcaaron</td>\n",
       "      <td>1531.0</td>\n",
       "      <td>Twitter</td>\n",
       "    </tr>\n",
       "    <tr>\n",
       "      <th>3</th>\n",
       "      <td>Aarón Sánchez</td>\n",
       "      <td>106075582777270</td>\n",
       "      <td>Chef</td>\n",
       "      <td>http://facebook.com/106075582777270</td>\n",
       "      <td>Y</td>\n",
       "      <td>https://twitter.com/Chef_Aaron</td>\n",
       "      <td>NaN</td>\n",
       "      <td>NaN</td>\n",
       "    </tr>\n",
       "    <tr>\n",
       "      <th>4</th>\n",
       "      <td>Abby Huntsman</td>\n",
       "      <td>382496035168964</td>\n",
       "      <td>Public Figure</td>\n",
       "      <td>http://facebook.com/382496035168964</td>\n",
       "      <td>N</td>\n",
       "      <td>NaN</td>\n",
       "      <td>NaN</td>\n",
       "      <td>NaN</td>\n",
       "    </tr>\n",
       "  </tbody>\n",
       "</table>\n",
       "</div>"
      ],
      "text/plain": [
       "              name               id       category  \\\n",
       "0       A.J. Klein  120578461444970        Athlete   \n",
       "1   Aaron Brackett  169056606481397  Public Figure   \n",
       "2  Aaron Gilchrist      99145336302     Journalist   \n",
       "3    Aarón Sánchez  106075582777270           Chef   \n",
       "4    Abby Huntsman  382496035168964  Public Figure   \n",
       "\n",
       "                                   url include?  \\\n",
       "0  http://facebook.com/120578461444970        N   \n",
       "1  http://facebook.com/169056606481397        Y   \n",
       "2      http://facebook.com/99145336302        Y   \n",
       "3  http://facebook.com/106075582777270        Y   \n",
       "4  http://facebook.com/382496035168964        N   \n",
       "\n",
       "                         Twitter page   stats stats_type  \n",
       "0                                 NaN  1511.0          Y  \n",
       "1  https://twitter.com/Aaron_Brackett   473.0          N  \n",
       "2        https://twitter.com/nbcaaron  1531.0    Twitter  \n",
       "3      https://twitter.com/Chef_Aaron     NaN        NaN  \n",
       "4                                 NaN     NaN        NaN  "
      ]
     },
     "execution_count": 2,
     "metadata": {},
     "output_type": "execute_result"
    }
   ],
   "source": [
    "accounts = pd.read_csv(\"accounts.csv\")\n",
    "accounts.head()"
   ]
  },
  {
   "cell_type": "code",
   "execution_count": 3,
   "metadata": {
    "collapsed": false
   },
   "outputs": [
    {
     "data": {
      "text/html": [
       "<div>\n",
       "<table border=\"1\" class=\"dataframe\">\n",
       "  <thead>\n",
       "    <tr style=\"text-align: right;\">\n",
       "      <th></th>\n",
       "      <th>name</th>\n",
       "      <th>id</th>\n",
       "    </tr>\n",
       "  </thead>\n",
       "  <tbody>\n",
       "    <tr>\n",
       "      <th>1</th>\n",
       "      <td>Aaron Brackett</td>\n",
       "      <td>169056606481397</td>\n",
       "    </tr>\n",
       "    <tr>\n",
       "      <th>2</th>\n",
       "      <td>Aaron Gilchrist</td>\n",
       "      <td>99145336302</td>\n",
       "    </tr>\n",
       "    <tr>\n",
       "      <th>3</th>\n",
       "      <td>Aarón Sánchez</td>\n",
       "      <td>106075582777270</td>\n",
       "    </tr>\n",
       "    <tr>\n",
       "      <th>5</th>\n",
       "      <td>ABC13-Christine Dobbyn</td>\n",
       "      <td>149105561803589</td>\n",
       "    </tr>\n",
       "    <tr>\n",
       "      <th>6</th>\n",
       "      <td>ABC13-Dave Ward</td>\n",
       "      <td>469939783076025</td>\n",
       "    </tr>\n",
       "  </tbody>\n",
       "</table>\n",
       "</div>"
      ],
      "text/plain": [
       "                     name               id\n",
       "1          Aaron Brackett  169056606481397\n",
       "2         Aaron Gilchrist      99145336302\n",
       "3           Aarón Sánchez  106075582777270\n",
       "5  ABC13-Christine Dobbyn  149105561803589\n",
       "6         ABC13-Dave Ward  469939783076025"
      ]
     },
     "execution_count": 3,
     "metadata": {},
     "output_type": "execute_result"
    }
   ],
   "source": [
    "fb = accounts.loc[accounts['include?'] =='Y', [\"name\", \"id\"]]\n",
    "fb.head()"
   ]
  },
  {
   "cell_type": "code",
   "execution_count": 4,
   "metadata": {
    "collapsed": false
   },
   "outputs": [
    {
     "data": {
      "text/plain": [
       "name    1511\n",
       "id      1511\n",
       "dtype: int64"
      ]
     },
     "execution_count": 4,
     "metadata": {},
     "output_type": "execute_result"
    }
   ],
   "source": [
    "fb.count()"
   ]
  },
  {
   "cell_type": "code",
   "execution_count": 5,
   "metadata": {
    "collapsed": true
   },
   "outputs": [],
   "source": [
    "fb.to_csv(\"facebook.csv\", index = False)"
   ]
  },
  {
   "cell_type": "code",
   "execution_count": 6,
   "metadata": {
    "collapsed": false
   },
   "outputs": [
    {
     "data": {
      "text/plain": [
       "1     https://twitter.com/Aaron_Brackett\n",
       "2           https://twitter.com/nbcaaron\n",
       "3         https://twitter.com/Chef_Aaron\n",
       "5    https://twitter.com/ChristineDobbyn\n",
       "6      https://twitter.com/DaveWardABC13\n",
       "Name: Twitter page, dtype: object"
      ]
     },
     "execution_count": 6,
     "metadata": {},
     "output_type": "execute_result"
    }
   ],
   "source": [
    "twitter = accounts.loc[(accounts['include?'] == 'Y') & accounts['Twitter page'].notnull(), \"Twitter page\"]\n",
    "twitter.head()"
   ]
  },
  {
   "cell_type": "code",
   "execution_count": 7,
   "metadata": {
    "collapsed": false
   },
   "outputs": [
    {
     "data": {
      "text/plain": [
       "1509"
      ]
     },
     "execution_count": 7,
     "metadata": {},
     "output_type": "execute_result"
    }
   ],
   "source": [
    "twitter.count()"
   ]
  },
  {
   "cell_type": "code",
   "execution_count": 8,
   "metadata": {
    "collapsed": true
   },
   "outputs": [],
   "source": [
    "import tweepy\n",
    "import yaml\n",
    "file = open(\"api-keys.yml\", \"r\")\n",
    "api_keys = yaml.load(file)\n",
    "file.close()\n",
    "auth = tweepy.OAuthHandler(api_keys[\"twitter\"][\"consumer-key\"],\n",
    "                           api_keys[\"twitter\"][\"consumer-secret\"])\n",
    "auth.set_access_token(api_keys[\"twitter\"][\"access-token\"], \n",
    "                      api_keys[\"twitter\"][\"access-secret\"])\n",
    "api = tweepy.API(auth)"
   ]
  },
  {
   "cell_type": "code",
   "execution_count": 9,
   "metadata": {
    "collapsed": false
   },
   "outputs": [
    {
     "data": {
      "text/plain": [
       "1509"
      ]
     },
     "execution_count": 9,
     "metadata": {},
     "output_type": "execute_result"
    }
   ],
   "source": [
    "names = [page.split('/')[-1] for page in twitter]\n",
    "len(names)"
   ]
  },
  {
   "cell_type": "code",
   "execution_count": 10,
   "metadata": {
    "collapsed": false
   },
   "outputs": [],
   "source": [
    "import time\n",
    "ids = []\n",
    "for n, name in enumerate(names):\n",
    "    if n > 899 and n % 900 == 0:\n",
    "        time.sleep(15*60)\n",
    "    try: \n",
    "        user_id = api.get_user(screen_name = name).id\n",
    "        ids.append((name, user_id))\n",
    "    except:\n",
    "        continue"
   ]
  },
  {
   "cell_type": "code",
   "execution_count": 11,
   "metadata": {
    "collapsed": false
   },
   "outputs": [
    {
     "data": {
      "text/plain": [
       "1500"
      ]
     },
     "execution_count": 11,
     "metadata": {},
     "output_type": "execute_result"
    }
   ],
   "source": [
    "len(ids)"
   ]
  },
  {
   "cell_type": "code",
   "execution_count": 14,
   "metadata": {
    "collapsed": false
   },
   "outputs": [
    {
     "data": {
      "text/html": [
       "<div>\n",
       "<table border=\"1\" class=\"dataframe\">\n",
       "  <thead>\n",
       "    <tr style=\"text-align: right;\">\n",
       "      <th></th>\n",
       "      <th>screen_name</th>\n",
       "      <th>id</th>\n",
       "    </tr>\n",
       "  </thead>\n",
       "  <tbody>\n",
       "    <tr>\n",
       "      <th>0</th>\n",
       "      <td>Aaron_Brackett</td>\n",
       "      <td>34777103</td>\n",
       "    </tr>\n",
       "    <tr>\n",
       "      <th>1</th>\n",
       "      <td>nbcaaron</td>\n",
       "      <td>235216696</td>\n",
       "    </tr>\n",
       "    <tr>\n",
       "      <th>2</th>\n",
       "      <td>Chef_Aaron</td>\n",
       "      <td>58816328</td>\n",
       "    </tr>\n",
       "    <tr>\n",
       "      <th>3</th>\n",
       "      <td>ChristineDobbyn</td>\n",
       "      <td>367948574</td>\n",
       "    </tr>\n",
       "    <tr>\n",
       "      <th>4</th>\n",
       "      <td>DaveWardABC13</td>\n",
       "      <td>1392493334</td>\n",
       "    </tr>\n",
       "  </tbody>\n",
       "</table>\n",
       "</div>"
      ],
      "text/plain": [
       "       screen_name          id\n",
       "0   Aaron_Brackett    34777103\n",
       "1         nbcaaron   235216696\n",
       "2       Chef_Aaron    58816328\n",
       "3  ChristineDobbyn   367948574\n",
       "4    DaveWardABC13  1392493334"
      ]
     },
     "execution_count": 14,
     "metadata": {},
     "output_type": "execute_result"
    }
   ],
   "source": [
    "names_ids = [values for values in zip(*ids)]\n",
    "twitter = pd.DataFrame({'screen_name': names_ids[0], 'id': names_ids[1]})[[\"screen_name\", \"id\"]]\n",
    "twitter.head()"
   ]
  },
  {
   "cell_type": "code",
   "execution_count": 15,
   "metadata": {
    "collapsed": true
   },
   "outputs": [],
   "source": [
    "twitter.to_csv('twitter.csv', index = False)"
   ]
  },
  {
   "cell_type": "code",
   "execution_count": null,
   "metadata": {
    "collapsed": true
   },
   "outputs": [],
   "source": []
  }
 ],
 "metadata": {
  "kernelspec": {
   "display_name": "Python 3",
   "language": "python",
   "name": "python3"
  },
  "language_info": {
   "codemirror_mode": {
    "name": "ipython",
    "version": 3
   },
   "file_extension": ".py",
   "mimetype": "text/x-python",
   "name": "python",
   "nbconvert_exporter": "python",
   "pygments_lexer": "ipython3",
   "version": "3.5.2"
  }
 },
 "nbformat": 4,
 "nbformat_minor": 0
}
