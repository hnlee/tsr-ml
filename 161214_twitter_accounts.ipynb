{
 "cells": [
  {
   "cell_type": "code",
   "execution_count": 45,
   "metadata": {
    "collapsed": true
   },
   "outputs": [],
   "source": [
    "import psycopg2\n",
    "import sqlalchemy\n",
    "import sqlalchemy.orm\n",
    "import os\n",
    "import yaml"
   ]
  },
  {
   "cell_type": "code",
   "execution_count": 7,
   "metadata": {
    "collapsed": true
   },
   "outputs": [],
   "source": [
    "def connect_to_snapshot(yaml_path):\n",
    "    file = open(yaml_path, \"r\")\n",
    "    db_info = yaml.load(file)\n",
    "    file.close()\n",
    "    url = \"postgresql+psycopg2://{}:{}@{}:{}/{}\".format(db_info[\"username\"],\n",
    "                                           db_info[\"password\"],\n",
    "                                           db_info[\"host\"],\n",
    "                                           db_info[\"port\"],\n",
    "                                           db_info[\"dbname\"])\n",
    "    engine = sqlalchemy.create_engine(url)\n",
    "    conn = engine.connect()\n",
    "    meta = sqlalchemy.MetaData(bind = engine)\n",
    "    meta.reflect()\n",
    "    return engine, conn, meta"
   ]
  },
  {
   "cell_type": "code",
   "execution_count": 23,
   "metadata": {
    "collapsed": false
   },
   "outputs": [],
   "source": [
    "engine, conn, meta = connect_to_snapshot(\"ml-snapshot.yml\")"
   ]
  },
  {
   "cell_type": "code",
   "execution_count": 101,
   "metadata": {
    "collapsed": false
   },
   "outputs": [
    {
     "name": "stdout",
     "output_type": "stream",
     "text": [
      "account_setup_surveys\n",
      "admins\n",
      "bottom_lines\n",
      "facebook_page_stats\n",
      "facebook_pages\n",
      "facebook_posts\n",
      "insights\n",
      "pghero_query_stats\n",
      "quotes\n",
      "reports\n",
      "schema_migrations\n",
      "subscription_plans\n",
      "top_lines\n",
      "twitter_competitors\n",
      "twitter_statuses\n",
      "twitter_subscriptions\n",
      "twitter_user_stats\n",
      "twitter_users\n",
      "version_associations\n",
      "versions\n",
      "clients\n",
      "competitors\n",
      "facebook_competitors\n",
      "facebook_subscriptions\n",
      "identities\n",
      "subscription_payments\n"
     ]
    }
   ],
   "source": [
    "for table in meta.sorted_tables:\n",
    "    print(table)"
   ]
  },
  {
   "cell_type": "code",
   "execution_count": 102,
   "metadata": {
    "collapsed": false
   },
   "outputs": [
    {
     "data": {
      "text/plain": [
       "[{'autoincrement': False,\n",
       "  'default': None,\n",
       "  'name': 'id',\n",
       "  'nullable': False,\n",
       "  'type': BIGINT()},\n",
       " {'autoincrement': False,\n",
       "  'default': None,\n",
       "  'name': 'entity',\n",
       "  'nullable': True,\n",
       "  'type': JSONB(astext_type=Text())},\n",
       " {'autoincrement': False,\n",
       "  'default': None,\n",
       "  'name': 'created_at',\n",
       "  'nullable': False,\n",
       "  'type': TIMESTAMP()},\n",
       " {'autoincrement': False,\n",
       "  'default': None,\n",
       "  'name': 'updated_at',\n",
       "  'nullable': False,\n",
       "  'type': TIMESTAMP()},\n",
       " {'autoincrement': False,\n",
       "  'default': 'true',\n",
       "  'name': 'active',\n",
       "  'nullable': True,\n",
       "  'type': BOOLEAN()}]"
      ]
     },
     "execution_count": 102,
     "metadata": {},
     "output_type": "execute_result"
    }
   ],
   "source": [
    "inspector = sqlalchemy.engine.reflection.Inspector.from_engine(engine)\n",
    "inspector.get_columns(\"twitter_users\")"
   ]
  },
  {
   "cell_type": "code",
   "execution_count": 103,
   "metadata": {
    "collapsed": false
   },
   "outputs": [],
   "source": [
    "TwitterUsers = meta.tables[\"twitter_users\"]"
   ]
  },
  {
   "cell_type": "code",
   "execution_count": 104,
   "metadata": {
    "collapsed": false
   },
   "outputs": [
    {
     "data": {
      "text/plain": [
       "[(274,)]"
      ]
     },
     "execution_count": 104,
     "metadata": {},
     "output_type": "execute_result"
    }
   ],
   "source": [
    "from sqlalchemy.sql import select, func\n",
    "s = select([func.count(TwitterUsers.c.id)])\n",
    "conn.execute(s).fetchall()"
   ]
  },
  {
   "cell_type": "code",
   "execution_count": 106,
   "metadata": {
    "collapsed": false
   },
   "outputs": [
    {
     "name": "stdout",
     "output_type": "stream",
     "text": [
      "contributors_enabled\n",
      "created_at\n",
      "default_profile\n",
      "default_profile_image\n",
      "description\n",
      "entities\n",
      "favourites_count\n",
      "follow_request_sent\n",
      "followers_count\n",
      "following\n",
      "friends_count\n",
      "geo_enabled\n",
      "has_extended_profile\n",
      "id\n",
      "id_str\n",
      "is_translation_enabled\n",
      "is_translator\n",
      "lang\n",
      "listed_count\n",
      "location\n",
      "name\n",
      "notifications\n",
      "profile_background_color\n",
      "profile_background_image_url\n",
      "profile_background_image_url_https\n",
      "profile_background_tile\n",
      "profile_banner_url\n",
      "profile_image_url\n",
      "profile_image_url_https\n",
      "profile_link_color\n",
      "profile_sidebar_border_color\n",
      "profile_sidebar_fill_color\n",
      "profile_text_color\n",
      "profile_use_background_image\n",
      "protected\n",
      "screen_name\n",
      "status\n",
      "statuses_count\n",
      "time_zone\n",
      "url\n",
      "utc_offset\n",
      "verified\n"
     ]
    }
   ],
   "source": [
    "s = select([TwitterUsers.c.entity])\n",
    "sample_user = conn.execute(s).fetchone()[0]\n",
    "loop = [print(key) for key in sorted(sample_user.keys())]"
   ]
  },
  {
   "cell_type": "code",
   "execution_count": 114,
   "metadata": {
    "collapsed": false
   },
   "outputs": [],
   "source": [
    "import tweepy\n",
    "file = open(\"api-keys.yml\", \"r\")\n",
    "api_keys = yaml.load(file)\n",
    "file.close()\n",
    "auth = tweepy.OAuthHandler(api_keys[\"twitter\"][\"consumer-key\"],\n",
    "                           api_keys[\"twitter\"][\"consumer-secret\"])\n",
    "auth.set_access_token(api_keys[\"twitter\"][\"access-token\"], \n",
    "                      api_keys[\"twitter\"][\"access-secret\"])\n",
    "api = tweepy.API(auth)"
   ]
  },
  {
   "cell_type": "code",
   "execution_count": 112,
   "metadata": {
    "collapsed": false
   },
   "outputs": [
    {
     "data": {
      "text/plain": [
       "274"
      ]
     },
     "execution_count": 112,
     "metadata": {},
     "output_type": "execute_result"
    }
   ],
   "source": [
    "s = select([TwitterUsers.c.entity])\n",
    "result = conn.execute(s)\n",
    "existing_twitter_users = dict((row[0][\"screen_name\"], row[0][\"id\"]) for row in result)\n",
    "len(existing_twitter_users)"
   ]
  },
  {
   "cell_type": "code",
   "execution_count": 120,
   "metadata": {
    "collapsed": false
   },
   "outputs": [
    {
     "name": "stdout",
     "output_type": "stream",
     "text": [
      "Not authorized.: 297791394\n",
      "50 users processed\n"
     ]
    },
    {
     "ename": "KeyboardInterrupt",
     "evalue": "",
     "output_type": "error",
     "traceback": [
      "\u001b[0;31m---------------------------------------------------------------------------\u001b[0m",
      "\u001b[0;31mKeyboardInterrupt\u001b[0m                         Traceback (most recent call last)",
      "\u001b[0;32m<ipython-input-120-30d9c4c559f6>\u001b[0m in \u001b[0;36m<module>\u001b[0;34m()\u001b[0m\n\u001b[1;32m     14\u001b[0m         \u001b[0;32mpass\u001b[0m\u001b[0;34m\u001b[0m\u001b[0m\n\u001b[1;32m     15\u001b[0m     \u001b[0;32mif\u001b[0m \u001b[0mi\u001b[0m \u001b[0;34m%\u001b[0m \u001b[0;36m7\u001b[0m \u001b[0;34m==\u001b[0m \u001b[0;36m0\u001b[0m\u001b[0;34m:\u001b[0m\u001b[0;34m\u001b[0m\u001b[0m\n\u001b[0;32m---> 16\u001b[0;31m         \u001b[0mtime\u001b[0m\u001b[0;34m.\u001b[0m\u001b[0msleep\u001b[0m\u001b[0;34m(\u001b[0m\u001b[0;36m15\u001b[0m\u001b[0;34m*\u001b[0m\u001b[0;36m60\u001b[0m\u001b[0;34m)\u001b[0m\u001b[0;34m\u001b[0m\u001b[0m\n\u001b[0m\u001b[1;32m     17\u001b[0m     \u001b[0;32mif\u001b[0m \u001b[0mi\u001b[0m \u001b[0;34m%\u001b[0m \u001b[0;36m50\u001b[0m \u001b[0;34m==\u001b[0m \u001b[0;36m0\u001b[0m\u001b[0;34m:\u001b[0m\u001b[0;34m\u001b[0m\u001b[0m\n\u001b[1;32m     18\u001b[0m         \u001b[0mprint\u001b[0m\u001b[0;34m(\u001b[0m\u001b[0;34m\"{!s} users processed\"\u001b[0m\u001b[0;34m.\u001b[0m\u001b[0mformat\u001b[0m\u001b[0;34m(\u001b[0m\u001b[0mi\u001b[0m\u001b[0;34m)\u001b[0m\u001b[0;34m)\u001b[0m\u001b[0;34m\u001b[0m\u001b[0m\n",
      "\u001b[0;31mKeyboardInterrupt\u001b[0m: "
     ]
    }
   ],
   "source": [
    "import time\n",
    "following_ids = []\n",
    "follower_ids = []\n",
    "i = 1\n",
    "time.sleep(15*60)\n",
    "\n",
    "for twitter_id in existing_twitter_users.values():\n",
    "    start = time.time()\n",
    "    try:\n",
    "        following_ids += api.friends_ids(twitter_id)\n",
    "        follower_ids += api.followers_ids(twitter_id)\n",
    "    except tweepy.TweepError as err:\n",
    "        print(\"{}: {!s}\".format(err, twitter_id))\n",
    "        pass\n",
    "    if i % 7 == 0:\n",
    "        time.sleep(15*60)\n",
    "    if i % 50 == 0:\n",
    "        print(\"{!s} users processed\".format(i))\n",
    "    i += 1"
   ]
  },
  {
   "cell_type": "code",
   "execution_count": 98,
   "metadata": {
    "collapsed": false
   },
   "outputs": [],
   "source": [
    "def create_screen_name_id_dict(id_list):\n",
    "    screen_name_dict = {}\n",
    "    user_ids = set(id_list)\n",
    "    for idx, user_id in enumerate(user_ids):\n",
    "        start = time.time()\n",
    "        screen_name_dict[api.get_user(user_id).screen_name] = user_id\n",
    "        if idx % 900 == 0:\n",
    "            delay = (15 * 60) - (time.time() - start)\n",
    "            time.sleep(delay)\n",
    "    return screen_name_dict"
   ]
  },
  {
   "cell_type": "code",
   "execution_count": null,
   "metadata": {
    "collapsed": true
   },
   "outputs": [],
   "source": [
    "following = create_screen_name_id_dict(following_ids)"
   ]
  },
  {
   "cell_type": "code",
   "execution_count": null,
   "metadata": {
    "collapsed": true
   },
   "outputs": [],
   "source": [
    "followers = create_screen_name_id_dict(follower_ids)"
   ]
  }
 ],
 "metadata": {
  "kernelspec": {
   "display_name": "Python 3",
   "language": "python",
   "name": "python3"
  },
  "language_info": {
   "codemirror_mode": {
    "name": "ipython",
    "version": 3
   },
   "file_extension": ".py",
   "mimetype": "text/x-python",
   "name": "python",
   "nbconvert_exporter": "python",
   "pygments_lexer": "ipython3",
   "version": "3.5.2"
  }
 },
 "nbformat": 4,
 "nbformat_minor": 0
}
